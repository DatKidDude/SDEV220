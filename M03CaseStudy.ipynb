{
 "cells": [
  {
   "cell_type": "markdown",
   "id": "8e661c4c",
   "metadata": {},
   "source": [
    "# M03 Case Study"
   ]
  },
  {
   "cell_type": "code",
   "execution_count": 5,
   "id": "58b0f77d",
   "metadata": {},
   "outputs": [
    {
     "name": "stdout",
     "output_type": "stream",
     "text": [
      "Enter the year of the vehicle: 2012\n",
      "Enter the make of the vehicle: Tesla\n",
      "Enter the model of the vehicle: Model S\n",
      "Enter the number of doors on the vehicle (either 2 or 4): 4\n",
      "Enter the type of roof on the vehicle ('solid' or 'sun roof'): sun roof\n",
      "\n",
      "Vehicle type: car\n",
      "Year: 2012\n",
      "Make: Tesla\n",
      "Model: Model S\n",
      "Number of doors: 4\n",
      "Type of roof: sun roof\n"
     ]
    }
   ],
   "source": [
    "'''\n",
    "This program has the user input attributes of a vehicle and then the program displays the output.\n",
    "\n",
    "Craig Giddings\n",
    "M03 Case Study\n",
    "4/5/2023\n",
    "'''\n",
    "\n",
    "# Vehicle Superclass\n",
    "class Vehicle:\n",
    "    def __init__(self, vehicle_type):\n",
    "        self.vehicle_type = vehicle_type\n",
    "\n",
    "    def get_vehicle_type(self):\n",
    "        '''returns the vehicle type of car when called'''\n",
    "        return self.vehicle_type \n",
    "\n",
    "\n",
    "class Automobile(Vehicle):\n",
    "    def __init__(self, year, make, model, doors, roof):\n",
    "        super().__init__(vehicle_type=\"car\") # setting vehicle type in the superclass to car\n",
    "        self.year = year\n",
    "        self.make = make\n",
    "        self.model = model\n",
    "        self.doors = doors\n",
    "        self.roof = roof\n",
    "\n",
    "    def get_year(self):\n",
    "        return self.year\n",
    "\n",
    "    def get_make(self):\n",
    "        return self.make\n",
    "\n",
    "    def get_model(self):\n",
    "        return self.model\n",
    "\n",
    "    def get_doors(self):\n",
    "        return self.doors\n",
    "\n",
    "    def get_roof(self):\n",
    "        return self.roof\n",
    "\n",
    "\n",
    "def main():\n",
    "\n",
    "    car_year = int(input(\"Enter the year of the vehicle: \"))\n",
    "    car_make = input(\"Enter the make of the vehicle: \")\n",
    "    car_model = input(\"Enter the model of the vehicle: \")\n",
    "\n",
    "    car_doors = int(input(\"Enter the number of doors on the vehicle (either 2 or 4): \"))\n",
    "\n",
    "    while car_doors != 2 and car_doors != 4: # while car doors is not equal to 2 or 4 \n",
    "        car_doors = int(input(\"Enter the number of doors on the vehicle (either 2 or 4): \"))\n",
    "\n",
    "    car_roof = input(\"Enter the type of roof on the vehicle ('solid' or 'sun roof'): \")\n",
    "\n",
    "    while car_roof != \"solid\".lower() and car_roof != \"sun roof\".lower(): # while car roof is not equal to 'solid' or 'sun roof'\n",
    "        car_roof = input(\"Enter the type of roof on the vehicle ('solid' or 'sun roof'): \")\n",
    "\n",
    "    car_output = Automobile(car_year, car_make, car_model, car_doors, car_roof)\n",
    "    \n",
    "    print()\n",
    "    print(f\"Vehicle type: {car_output.get_vehicle_type()}\")\n",
    "    print(f\"Year: {car_output.get_year()}\")\n",
    "    print(f\"Make: {car_output.get_make()}\")\n",
    "    print(f\"Model: {car_output.get_model()}\")\n",
    "    print(f\"Number of doors: {car_output.get_doors()}\")\n",
    "    print(f\"Type of roof: {car_output.get_roof()}\")\n",
    "\n",
    "\n",
    "if __name__ == \"__main__\": # only run if this file is executed as a script and not imported as a module\n",
    "    main()\n"
   ]
  }
 ],
 "metadata": {
  "kernelspec": {
   "display_name": "Python 3 (ipykernel)",
   "language": "python",
   "name": "python3"
  },
  "language_info": {
   "codemirror_mode": {
    "name": "ipython",
    "version": 3
   },
   "file_extension": ".py",
   "mimetype": "text/x-python",
   "name": "python",
   "nbconvert_exporter": "python",
   "pygments_lexer": "ipython3",
   "version": "3.10.9"
  }
 },
 "nbformat": 4,
 "nbformat_minor": 5
}
