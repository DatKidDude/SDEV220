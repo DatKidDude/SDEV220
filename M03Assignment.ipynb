{
 "cells": [
  {
   "cell_type": "code",
   "execution_count": 7,
   "id": "f89b6b19",
   "metadata": {},
   "outputs": [
    {
     "name": "stdout",
     "output_type": "stream",
     "text": [
      "['mozzarella', 'Cinderella', 'salmonella']\n",
      "['MOZZARELLA', 'Cinderella', 'salmonella']\n",
      "['MOZZARELLA', 'Cinderella']\n"
     ]
    }
   ],
   "source": [
    "# 7.4\n",
    "things = [\"mozzarella\", \"cinderella\", \"salmonella\"]\n",
    "\n",
    "# 7.5 Yes the elements in the list get modified\n",
    "things[1] = things[1].capitalize()\n",
    "print(things) \n",
    "\n",
    "# 7.6 \n",
    "things[0] = things[0].upper()\n",
    "print(things)\n",
    "\n",
    "# 7.7\n",
    "del things[-1]\n",
    "print(things)"
   ]
  },
  {
   "cell_type": "code",
   "execution_count": 21,
   "id": "93623681",
   "metadata": {},
   "outputs": [
    {
     "name": "stdout",
     "output_type": "stream",
     "text": [
      "['Harry', 'Ron', 'Hermione']\n",
      "5\n"
     ]
    }
   ],
   "source": [
    "# 9.1\n",
    "def good():\n",
    "    return [\"Harry\", \"Ron\", \"Hermione\"]\n",
    "\n",
    "print(good())\n",
    "\n",
    "# 9.2\n",
    "def get_odds():\n",
    "    num = 0 \n",
    "    while num < 10: \n",
    "        if num % 2 == 1: \n",
    "            yield num\n",
    "        num += 1\n",
    "\n",
    "odds = get_odds()\n",
    "\n",
    "for counter, number in enumerate(odds):\n",
    "    if counter == 2:\n",
    "        print(number)\n",
    "        break\n",
    "\n",
    "\n",
    "# 9.2 - additional method using a for loop to create the generator\n",
    "\n",
    "# def get_odds():\n",
    "#     for num in range(1, 10, 2):\n",
    "#         yield num\n",
    "    \n",
    "# odds = get_odds()\n",
    "\n",
    "# for counter, number in enumerate(odds):\n",
    "#     if counter + 1 == 3:\n",
    "#         print(number) \n",
    "#         break\n",
    "\n",
    "            "
   ]
  }
 ],
 "metadata": {
  "kernelspec": {
   "display_name": "Python 3 (ipykernel)",
   "language": "python",
   "name": "python3"
  },
  "language_info": {
   "codemirror_mode": {
    "name": "ipython",
    "version": 3
   },
   "file_extension": ".py",
   "mimetype": "text/x-python",
   "name": "python",
   "nbconvert_exporter": "python",
   "pygments_lexer": "ipython3",
   "version": "3.10.9"
  }
 },
 "nbformat": 4,
 "nbformat_minor": 5
}
